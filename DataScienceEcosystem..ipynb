{
 "cells": [
  {
   "cell_type": "markdown",
   "id": "cbdddb43",
   "metadata": {},
   "source": [
    "# Data Science Tools and Ecosystem"
   ]
  },
  {
   "cell_type": "markdown",
   "id": "f0e1289d",
   "metadata": {},
   "source": [
    "In this notebook, i am going to carry out my datascience practice.\n",
    "\n"
   ]
  },
  {
   "cell_type": "markdown",
   "id": "191dc627",
   "metadata": {},
   "source": [
    "**Objectives**\n",
    "\n",
    "- Exploring through various data science tools\n",
    "- Learn different languages used in Data Science, e.g python and R \n",
    "- Major libraries needed in Data Science, e.g Nampy\n",
    "- An overview of Data Science methodology"
   ]
  },
  {
   "cell_type": "markdown",
   "id": "b13e9d56",
   "metadata": {},
   "source": [
    "Some of the popular languages that Data Scientists use are:\n",
    "1. Python \n",
    "2. SQL\n",
    "3. R\n",
    "4. MATLAB\n",
    "5. Scala"
   ]
  },
  {
   "cell_type": "markdown",
   "id": "a1b2ace4",
   "metadata": {},
   "source": [
    "Some of the commonly used libraries used by Data Scientists include:\n",
    "1. Scipy\n",
    "2. Tensorflow 3.Plotly\n",
    "3. Gglote"
   ]
  },
  {
   "cell_type": "markdown",
   "id": "f91aa184",
   "metadata": {},
   "source": [
    "|Data Science Tools|\n",
    "-----------------------------\n",
    "| Jupyter Notebook|\n",
    "| Rstudio|\n",
    "|Apache Zeppelin|"
   ]
  },
  {
   "cell_type": "markdown",
   "id": "c9546f05",
   "metadata": {},
   "source": [
    "### Below are a few examples of evaluating arithmetic expressions in Python\n",
    "1. Addition we use +, e.g (a+b)\n",
    "2. Subtraction we use -, e.g (a-b)\n",
    "3. Multiplication we use *, e.g (a*b)\n",
    "4. Division we use /, e.g (a/b)"
   ]
  },
  {
   "cell_type": "code",
   "execution_count": 2,
   "id": "490b41e3",
   "metadata": {},
   "outputs": [
    {
     "data": {
      "text/plain": [
       "17"
      ]
     },
     "execution_count": 2,
     "metadata": {},
     "output_type": "execute_result"
    }
   ],
   "source": [
    "# below is a code to multply and add interger \n",
    "(3*4)+5"
   ]
  },
  {
   "cell_type": "code",
   "execution_count": 3,
   "id": "c32c334c",
   "metadata": {},
   "outputs": [
    {
     "name": "stdout",
     "output_type": "stream",
     "text": [
      "3.3333333333333335\n"
     ]
    }
   ],
   "source": [
    "# On this excersise we are going to convert 200 minutes to hours \n",
    "minutes = 200\n",
    "hours = minutes/60\n",
    "print(hours)\n"
   ]
  },
  {
   "cell_type": "markdown",
   "id": "2e58b5a4",
   "metadata": {},
   "source": [
    "## Author\n",
    "Brian Kichini"
   ]
  },
  {
   "cell_type": "code",
   "execution_count": null,
   "id": "927a3aca",
   "metadata": {},
   "outputs": [],
   "source": []
  }
 ],
 "metadata": {
  "kernelspec": {
   "display_name": "Python 3 (ipykernel)",
   "language": "python",
   "name": "python3"
  },
  "language_info": {
   "codemirror_mode": {
    "name": "ipython",
    "version": 3
   },
   "file_extension": ".py",
   "mimetype": "text/x-python",
   "name": "python",
   "nbconvert_exporter": "python",
   "pygments_lexer": "ipython3",
   "version": "3.9.12"
  }
 },
 "nbformat": 4,
 "nbformat_minor": 5
}
